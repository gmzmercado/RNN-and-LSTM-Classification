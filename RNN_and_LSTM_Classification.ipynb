{
 "cells": [
  {
   "cell_type": "markdown",
   "id": "4619151f-5bf1-4f6d-841f-0781ba6bd8b7",
   "metadata": {},
   "source": [
    "# Spam or Ham? RNN, LSTM, and Data Augmentation Techniques for Text"
   ]
  },
  {
   "cell_type": "markdown",
   "id": "ba55a460-0535-4a6e-8ae3-0f50aaab5591",
   "metadata": {},
   "source": [
    "## Introduction\n",
    "Recurrent Neural Networks (RNNs) and Long Short-Term Memory (LSTM) networks are powerful tools for tackling various text-based data science challenges. These models excel at handling sequential information due to their ability to maintain context across time steps, making them well-suited for tasks like text classification, sentiment analysis, and language modeling.\n",
    "\n",
    "While RNNs employ a simple yet effective architecture to capture temporal dependencies, LSTMs enhance this capability by mitigating the vanishing gradient problem through their complex cell structure, allowing them to learn long-term dependencies more effectively.\n",
    "\n",
    "In this notebook, we will develop and compare the performance of RNN and LSTM models for classifying emails as spam or legitimate (ham). To improve the robustness and generalization of our models, we will explore various data augmentation techniques tailored for text data. These techniques, including synonym replacement, sentence shuffling, and back translation, will help us artificially expand our training dataset, addressing the common issue of limited labeled data in text classification tasks.\n",
    "\n",
    "By implementing these strategies, we aim to enhance model performance and reduce overfitting, ultimately achieving more reliable and accurate text classification.\n",
    "\n",
    "## The Dataset\n",
    "The data was obtained from Kaggle [https://www.kaggle.com/datasets/prishasawhney/email-classification-ham-spam], containing two columns:\n",
    "\n",
    "* **Email**: This column contains the textual description of the email/ message, offering a diverse range of vocabulary and language patterns.\n",
    "* **Label**: Each review is classified into either Ham (non-spam) or Spam.\n",
    "\n",
    "The dataset is split into three: *Train Set* consisting of 116 data points, *Validation Set* consisting of 36 data points, and *Test Set* consisting of 27 data points, totalling 179 data points. "
   ]
  },
  {
   "cell_type": "markdown",
   "id": "dd8e506a-f91f-4868-81ad-56a1a1d8851f",
   "metadata": {
    "execution": {
     "iopub.execute_input": "2024-06-20T02:53:50.145136Z",
     "iopub.status.busy": "2024-06-20T02:53:50.144095Z",
     "iopub.status.idle": "2024-06-20T02:53:50.164704Z",
     "shell.execute_reply": "2024-06-20T02:53:50.163050Z",
     "shell.execute_reply.started": "2024-06-20T02:53:50.145069Z"
    }
   },
   "source": [
    "## Building the Base RNN and LSTM Models\n",
    "For this section, we'll be building the base RNN and LSTM with the following methodology:\n",
    "1. Import Libraries\n",
    "2. Load and Process Data\n",
    "3. Develop SimpleRNN and LSTM Models\n",
    "4. Analyze Performance"
   ]
  },
  {
   "cell_type": "code",
   "execution_count": 2,
   "id": "a5839d46-8cd8-4cbe-a55d-c76a075c741d",
   "metadata": {
    "execution": {
     "iopub.execute_input": "2024-04-27T03:42:36.393040Z",
     "iopub.status.busy": "2024-04-27T03:42:36.392358Z",
     "iopub.status.idle": "2024-04-27T03:42:36.402147Z",
     "shell.execute_reply": "2024-04-27T03:42:36.400692Z",
     "shell.execute_reply.started": "2024-04-27T03:42:36.392982Z"
    }
   },
   "outputs": [],
   "source": [
    "# Import Libraries\n",
    "import tensorflow as tf\n",
    "from keras import Sequential\n",
    "from keras.layers import Embedding, SimpleRNN\n",
    "from keras.layers import Dense\n",
    "from keras.layers import LSTM\n",
    "from keras.preprocessing import sequence\n",
    "import matplotlib.pyplot as plt\n",
    "import numpy as np\n",
    "import pandas as pd"
   ]
  },
  {
   "cell_type": "code",
   "execution_count": 3,
   "id": "16ecbaa3-2c07-42af-827f-414fd76242b4",
   "metadata": {
    "execution": {
     "iopub.execute_input": "2024-04-27T03:42:36.405374Z",
     "iopub.status.busy": "2024-04-27T03:42:36.404750Z",
     "iopub.status.idle": "2024-04-27T03:42:36.435340Z",
     "shell.execute_reply": "2024-04-27T03:42:36.433831Z",
     "shell.execute_reply.started": "2024-04-27T03:42:36.405317Z"
    }
   },
   "outputs": [],
   "source": [
    "# Load and Process Data\n",
    "file_path = 'email_classification.csv'\n",
    "df = pd.read_csv(file_path)\n",
    "inputs, labels = df.email, df.label\n",
    "del df\n",
    "\n",
    "tokenizer = tf.keras.preprocessing.text.Tokenizer()\n",
    "tokenizer.fit_on_texts(inputs)\n",
    "inputs = tokenizer.texts_to_sequences(inputs)\n",
    "labels = np.array([(i=='spam')+0 for i in labels])\n",
    "\n",
    "max_features = 10000\n",
    "maxlen = 20\n",
    "inputs = sequence.pad_sequences(inputs, maxlen=maxlen)\n",
    "\n",
    "test_size = round(len(labels) * 0.15)\n",
    "val_size = round(len(labels) * 0.2)\n",
    "train_size = len(labels) - test_size - val_size\n",
    "\n",
    "x_train, y_train = inputs[:train_size], labels[:train_size]\n",
    "x_val, y_val = inputs[train_size:train_size + val_size], labels[train_size:train_size + val_size]\n",
    "x_test, y_test = inputs[train_size + val_size:], labels[train_size + val_size:]"
   ]
  },
  {
   "cell_type": "code",
   "execution_count": 14,
   "id": "faf7adfe-2c67-495d-a9c6-080c998c63c6",
   "metadata": {
    "execution": {
     "iopub.execute_input": "2024-04-27T03:47:17.131662Z",
     "iopub.status.busy": "2024-04-27T03:47:17.130933Z",
     "iopub.status.idle": "2024-04-27T03:47:17.142246Z",
     "shell.execute_reply": "2024-04-27T03:47:17.140031Z",
     "shell.execute_reply.started": "2024-04-27T03:47:17.131566Z"
    }
   },
   "outputs": [
    {
     "name": "stdout",
     "output_type": "stream",
     "text": [
      "train_size: 116\n",
      "val_size: 36\n",
      "test_size: 27\n"
     ]
    }
   ],
   "source": [
    "print(f'train_size: {train_size}')\n",
    "print(f'val_size: {val_size}')\n",
    "print(f'test_size: {test_size}')"
   ]
  },
  {
   "cell_type": "code",
   "execution_count": 4,
   "id": "34c72f94-1edc-4ff0-8fea-4c17d2d284a2",
   "metadata": {
    "execution": {
     "iopub.execute_input": "2024-04-27T03:42:36.436889Z",
     "iopub.status.busy": "2024-04-27T03:42:36.436485Z",
     "iopub.status.idle": "2024-04-27T03:42:37.200113Z",
     "shell.execute_reply": "2024-04-27T03:42:37.199021Z",
     "shell.execute_reply.started": "2024-04-27T03:42:36.436864Z"
    }
   },
   "outputs": [],
   "source": [
    "# SimpleRNN and LSTM Development \n",
    "model_rnn = Sequential()\n",
    "model_rnn.add(Embedding(max_features, 32))\n",
    "model_rnn.add(SimpleRNN(32))\n",
    "model_rnn.add(Dense(1, activation='sigmoid'))\n",
    "model_rnn.compile(optimizer='rmsprop', loss='binary_crossentropy', metrics=['acc'])\n",
    "\n",
    "model_lstm = Sequential()\n",
    "model_lstm.add(Embedding(max_features, 32))\n",
    "model_lstm.add(LSTM(32))\n",
    "model_lstm.add(Dense(1, activation='sigmoid'))\n",
    "model_lstm.compile(optimizer='rmsprop', loss='binary_crossentropy', metrics=['acc'])"
   ]
  },
  {
   "cell_type": "code",
   "execution_count": 169,
   "id": "14ed805d-0f91-4e72-847c-23811507324b",
   "metadata": {
    "execution": {
     "iopub.execute_input": "2024-04-27T07:04:15.855868Z",
     "iopub.status.busy": "2024-04-27T07:04:15.854474Z",
     "iopub.status.idle": "2024-04-27T07:04:15.901426Z",
     "shell.execute_reply": "2024-04-27T07:04:15.900766Z",
     "shell.execute_reply.started": "2024-04-27T07:04:15.855805Z"
    }
   },
   "outputs": [
    {
     "data": {
      "text/html": [
       "<pre style=\"white-space:pre;overflow-x:auto;line-height:normal;font-family:Menlo,'DejaVu Sans Mono',consolas,'Courier New',monospace\"><span style=\"font-weight: bold\">Model: \"sequential\"</span>\n",
       "</pre>\n"
      ],
      "text/plain": [
       "\u001b[1mModel: \"sequential\"\u001b[0m\n"
      ]
     },
     "metadata": {},
     "output_type": "display_data"
    },
    {
     "data": {
      "text/html": [
       "<pre style=\"white-space:pre;overflow-x:auto;line-height:normal;font-family:Menlo,'DejaVu Sans Mono',consolas,'Courier New',monospace\">┏━━━━━━━━━━━━━━━━━━━━━━━━━━━━━━━━━┳━━━━━━━━━━━━━━━━━━━━━━━━┳━━━━━━━━━━━━━━━┓\n",
       "┃<span style=\"font-weight: bold\"> Layer (type)                    </span>┃<span style=\"font-weight: bold\"> Output Shape           </span>┃<span style=\"font-weight: bold\">       Param # </span>┃\n",
       "┡━━━━━━━━━━━━━━━━━━━━━━━━━━━━━━━━━╇━━━━━━━━━━━━━━━━━━━━━━━━╇━━━━━━━━━━━━━━━┩\n",
       "│ embedding (<span style=\"color: #0087ff; text-decoration-color: #0087ff\">Embedding</span>)           │ (<span style=\"color: #00d7ff; text-decoration-color: #00d7ff\">None</span>, <span style=\"color: #00af00; text-decoration-color: #00af00\">20</span>, <span style=\"color: #00af00; text-decoration-color: #00af00\">32</span>)         │       <span style=\"color: #00af00; text-decoration-color: #00af00\">320,000</span> │\n",
       "├─────────────────────────────────┼────────────────────────┼───────────────┤\n",
       "│ simple_rnn (<span style=\"color: #0087ff; text-decoration-color: #0087ff\">SimpleRNN</span>)          │ (<span style=\"color: #00d7ff; text-decoration-color: #00d7ff\">None</span>, <span style=\"color: #00af00; text-decoration-color: #00af00\">32</span>)             │         <span style=\"color: #00af00; text-decoration-color: #00af00\">2,080</span> │\n",
       "├─────────────────────────────────┼────────────────────────┼───────────────┤\n",
       "│ dense (<span style=\"color: #0087ff; text-decoration-color: #0087ff\">Dense</span>)                   │ (<span style=\"color: #00d7ff; text-decoration-color: #00d7ff\">None</span>, <span style=\"color: #00af00; text-decoration-color: #00af00\">1</span>)              │            <span style=\"color: #00af00; text-decoration-color: #00af00\">33</span> │\n",
       "└─────────────────────────────────┴────────────────────────┴───────────────┘\n",
       "</pre>\n"
      ],
      "text/plain": [
       "┏━━━━━━━━━━━━━━━━━━━━━━━━━━━━━━━━━┳━━━━━━━━━━━━━━━━━━━━━━━━┳━━━━━━━━━━━━━━━┓\n",
       "┃\u001b[1m \u001b[0m\u001b[1mLayer (type)                   \u001b[0m\u001b[1m \u001b[0m┃\u001b[1m \u001b[0m\u001b[1mOutput Shape          \u001b[0m\u001b[1m \u001b[0m┃\u001b[1m \u001b[0m\u001b[1m      Param #\u001b[0m\u001b[1m \u001b[0m┃\n",
       "┡━━━━━━━━━━━━━━━━━━━━━━━━━━━━━━━━━╇━━━━━━━━━━━━━━━━━━━━━━━━╇━━━━━━━━━━━━━━━┩\n",
       "│ embedding (\u001b[38;5;33mEmbedding\u001b[0m)           │ (\u001b[38;5;45mNone\u001b[0m, \u001b[38;5;34m20\u001b[0m, \u001b[38;5;34m32\u001b[0m)         │       \u001b[38;5;34m320,000\u001b[0m │\n",
       "├─────────────────────────────────┼────────────────────────┼───────────────┤\n",
       "│ simple_rnn (\u001b[38;5;33mSimpleRNN\u001b[0m)          │ (\u001b[38;5;45mNone\u001b[0m, \u001b[38;5;34m32\u001b[0m)             │         \u001b[38;5;34m2,080\u001b[0m │\n",
       "├─────────────────────────────────┼────────────────────────┼───────────────┤\n",
       "│ dense (\u001b[38;5;33mDense\u001b[0m)                   │ (\u001b[38;5;45mNone\u001b[0m, \u001b[38;5;34m1\u001b[0m)              │            \u001b[38;5;34m33\u001b[0m │\n",
       "└─────────────────────────────────┴────────────────────────┴───────────────┘\n"
      ]
     },
     "metadata": {},
     "output_type": "display_data"
    },
    {
     "data": {
      "text/html": [
       "<pre style=\"white-space:pre;overflow-x:auto;line-height:normal;font-family:Menlo,'DejaVu Sans Mono',consolas,'Courier New',monospace\"><span style=\"font-weight: bold\"> Total params: </span><span style=\"color: #00af00; text-decoration-color: #00af00\">644,228</span> (2.46 MB)\n",
       "</pre>\n"
      ],
      "text/plain": [
       "\u001b[1m Total params: \u001b[0m\u001b[38;5;34m644,228\u001b[0m (2.46 MB)\n"
      ]
     },
     "metadata": {},
     "output_type": "display_data"
    },
    {
     "data": {
      "text/html": [
       "<pre style=\"white-space:pre;overflow-x:auto;line-height:normal;font-family:Menlo,'DejaVu Sans Mono',consolas,'Courier New',monospace\"><span style=\"font-weight: bold\"> Trainable params: </span><span style=\"color: #00af00; text-decoration-color: #00af00\">322,113</span> (1.23 MB)\n",
       "</pre>\n"
      ],
      "text/plain": [
       "\u001b[1m Trainable params: \u001b[0m\u001b[38;5;34m322,113\u001b[0m (1.23 MB)\n"
      ]
     },
     "metadata": {},
     "output_type": "display_data"
    },
    {
     "data": {
      "text/html": [
       "<pre style=\"white-space:pre;overflow-x:auto;line-height:normal;font-family:Menlo,'DejaVu Sans Mono',consolas,'Courier New',monospace\"><span style=\"font-weight: bold\"> Non-trainable params: </span><span style=\"color: #00af00; text-decoration-color: #00af00\">0</span> (0.00 B)\n",
       "</pre>\n"
      ],
      "text/plain": [
       "\u001b[1m Non-trainable params: \u001b[0m\u001b[38;5;34m0\u001b[0m (0.00 B)\n"
      ]
     },
     "metadata": {},
     "output_type": "display_data"
    },
    {
     "data": {
      "text/html": [
       "<pre style=\"white-space:pre;overflow-x:auto;line-height:normal;font-family:Menlo,'DejaVu Sans Mono',consolas,'Courier New',monospace\"><span style=\"font-weight: bold\"> Optimizer params: </span><span style=\"color: #00af00; text-decoration-color: #00af00\">322,115</span> (1.23 MB)\n",
       "</pre>\n"
      ],
      "text/plain": [
       "\u001b[1m Optimizer params: \u001b[0m\u001b[38;5;34m322,115\u001b[0m (1.23 MB)\n"
      ]
     },
     "metadata": {},
     "output_type": "display_data"
    },
    {
     "data": {
      "text/html": [
       "<pre style=\"white-space:pre;overflow-x:auto;line-height:normal;font-family:Menlo,'DejaVu Sans Mono',consolas,'Courier New',monospace\"><span style=\"font-weight: bold\">Model: \"sequential_1\"</span>\n",
       "</pre>\n"
      ],
      "text/plain": [
       "\u001b[1mModel: \"sequential_1\"\u001b[0m\n"
      ]
     },
     "metadata": {},
     "output_type": "display_data"
    },
    {
     "data": {
      "text/html": [
       "<pre style=\"white-space:pre;overflow-x:auto;line-height:normal;font-family:Menlo,'DejaVu Sans Mono',consolas,'Courier New',monospace\">┏━━━━━━━━━━━━━━━━━━━━━━━━━━━━━━━━━┳━━━━━━━━━━━━━━━━━━━━━━━━┳━━━━━━━━━━━━━━━┓\n",
       "┃<span style=\"font-weight: bold\"> Layer (type)                    </span>┃<span style=\"font-weight: bold\"> Output Shape           </span>┃<span style=\"font-weight: bold\">       Param # </span>┃\n",
       "┡━━━━━━━━━━━━━━━━━━━━━━━━━━━━━━━━━╇━━━━━━━━━━━━━━━━━━━━━━━━╇━━━━━━━━━━━━━━━┩\n",
       "│ embedding_1 (<span style=\"color: #0087ff; text-decoration-color: #0087ff\">Embedding</span>)         │ (<span style=\"color: #00d7ff; text-decoration-color: #00d7ff\">None</span>, <span style=\"color: #00af00; text-decoration-color: #00af00\">20</span>, <span style=\"color: #00af00; text-decoration-color: #00af00\">32</span>)         │       <span style=\"color: #00af00; text-decoration-color: #00af00\">320,000</span> │\n",
       "├─────────────────────────────────┼────────────────────────┼───────────────┤\n",
       "│ lstm (<span style=\"color: #0087ff; text-decoration-color: #0087ff\">LSTM</span>)                     │ (<span style=\"color: #00d7ff; text-decoration-color: #00d7ff\">None</span>, <span style=\"color: #00af00; text-decoration-color: #00af00\">32</span>)             │         <span style=\"color: #00af00; text-decoration-color: #00af00\">8,320</span> │\n",
       "├─────────────────────────────────┼────────────────────────┼───────────────┤\n",
       "│ dense_1 (<span style=\"color: #0087ff; text-decoration-color: #0087ff\">Dense</span>)                 │ (<span style=\"color: #00d7ff; text-decoration-color: #00d7ff\">None</span>, <span style=\"color: #00af00; text-decoration-color: #00af00\">1</span>)              │            <span style=\"color: #00af00; text-decoration-color: #00af00\">33</span> │\n",
       "└─────────────────────────────────┴────────────────────────┴───────────────┘\n",
       "</pre>\n"
      ],
      "text/plain": [
       "┏━━━━━━━━━━━━━━━━━━━━━━━━━━━━━━━━━┳━━━━━━━━━━━━━━━━━━━━━━━━┳━━━━━━━━━━━━━━━┓\n",
       "┃\u001b[1m \u001b[0m\u001b[1mLayer (type)                   \u001b[0m\u001b[1m \u001b[0m┃\u001b[1m \u001b[0m\u001b[1mOutput Shape          \u001b[0m\u001b[1m \u001b[0m┃\u001b[1m \u001b[0m\u001b[1m      Param #\u001b[0m\u001b[1m \u001b[0m┃\n",
       "┡━━━━━━━━━━━━━━━━━━━━━━━━━━━━━━━━━╇━━━━━━━━━━━━━━━━━━━━━━━━╇━━━━━━━━━━━━━━━┩\n",
       "│ embedding_1 (\u001b[38;5;33mEmbedding\u001b[0m)         │ (\u001b[38;5;45mNone\u001b[0m, \u001b[38;5;34m20\u001b[0m, \u001b[38;5;34m32\u001b[0m)         │       \u001b[38;5;34m320,000\u001b[0m │\n",
       "├─────────────────────────────────┼────────────────────────┼───────────────┤\n",
       "│ lstm (\u001b[38;5;33mLSTM\u001b[0m)                     │ (\u001b[38;5;45mNone\u001b[0m, \u001b[38;5;34m32\u001b[0m)             │         \u001b[38;5;34m8,320\u001b[0m │\n",
       "├─────────────────────────────────┼────────────────────────┼───────────────┤\n",
       "│ dense_1 (\u001b[38;5;33mDense\u001b[0m)                 │ (\u001b[38;5;45mNone\u001b[0m, \u001b[38;5;34m1\u001b[0m)              │            \u001b[38;5;34m33\u001b[0m │\n",
       "└─────────────────────────────────┴────────────────────────┴───────────────┘\n"
      ]
     },
     "metadata": {},
     "output_type": "display_data"
    },
    {
     "data": {
      "text/html": [
       "<pre style=\"white-space:pre;overflow-x:auto;line-height:normal;font-family:Menlo,'DejaVu Sans Mono',consolas,'Courier New',monospace\"><span style=\"font-weight: bold\"> Total params: </span><span style=\"color: #00af00; text-decoration-color: #00af00\">656,708</span> (2.51 MB)\n",
       "</pre>\n"
      ],
      "text/plain": [
       "\u001b[1m Total params: \u001b[0m\u001b[38;5;34m656,708\u001b[0m (2.51 MB)\n"
      ]
     },
     "metadata": {},
     "output_type": "display_data"
    },
    {
     "data": {
      "text/html": [
       "<pre style=\"white-space:pre;overflow-x:auto;line-height:normal;font-family:Menlo,'DejaVu Sans Mono',consolas,'Courier New',monospace\"><span style=\"font-weight: bold\"> Trainable params: </span><span style=\"color: #00af00; text-decoration-color: #00af00\">328,353</span> (1.25 MB)\n",
       "</pre>\n"
      ],
      "text/plain": [
       "\u001b[1m Trainable params: \u001b[0m\u001b[38;5;34m328,353\u001b[0m (1.25 MB)\n"
      ]
     },
     "metadata": {},
     "output_type": "display_data"
    },
    {
     "data": {
      "text/html": [
       "<pre style=\"white-space:pre;overflow-x:auto;line-height:normal;font-family:Menlo,'DejaVu Sans Mono',consolas,'Courier New',monospace\"><span style=\"font-weight: bold\"> Non-trainable params: </span><span style=\"color: #00af00; text-decoration-color: #00af00\">0</span> (0.00 B)\n",
       "</pre>\n"
      ],
      "text/plain": [
       "\u001b[1m Non-trainable params: \u001b[0m\u001b[38;5;34m0\u001b[0m (0.00 B)\n"
      ]
     },
     "metadata": {},
     "output_type": "display_data"
    },
    {
     "data": {
      "text/html": [
       "<pre style=\"white-space:pre;overflow-x:auto;line-height:normal;font-family:Menlo,'DejaVu Sans Mono',consolas,'Courier New',monospace\"><span style=\"font-weight: bold\"> Optimizer params: </span><span style=\"color: #00af00; text-decoration-color: #00af00\">328,355</span> (1.25 MB)\n",
       "</pre>\n"
      ],
      "text/plain": [
       "\u001b[1m Optimizer params: \u001b[0m\u001b[38;5;34m328,355\u001b[0m (1.25 MB)\n"
      ]
     },
     "metadata": {},
     "output_type": "display_data"
    }
   ],
   "source": [
    "model_rnn.summary()\n",
    "model_lstm.summary()"
   ]
  },
  {
   "cell_type": "code",
   "execution_count": 5,
   "id": "8d53657b-f9f2-427b-b27e-0ed88b8d8ea5",
   "metadata": {
    "execution": {
     "iopub.execute_input": "2024-04-27T03:42:37.202061Z",
     "iopub.status.busy": "2024-04-27T03:42:37.201701Z",
     "iopub.status.idle": "2024-04-27T03:42:44.557766Z",
     "shell.execute_reply": "2024-04-27T03:42:44.556217Z",
     "shell.execute_reply.started": "2024-04-27T03:42:37.202041Z"
    }
   },
   "outputs": [
    {
     "name": "stdout",
     "output_type": "stream",
     "text": [
      "Epoch 1/10\n",
      "\u001b[1m4/4\u001b[0m \u001b[32m━━━━━━━━━━━━━━━━━━━━\u001b[0m\u001b[37m\u001b[0m \u001b[1m6s\u001b[0m 794ms/step - acc: 0.6445 - loss: 0.6651 - val_acc: 0.8056 - val_loss: 0.6363\n",
      "Epoch 2/10\n",
      "\u001b[1m4/4\u001b[0m \u001b[32m━━━━━━━━━━━━━━━━━━━━\u001b[0m\u001b[37m\u001b[0m \u001b[1m0s\u001b[0m 23ms/step - acc: 0.9429 - loss: 0.4608 - val_acc: 0.8611 - val_loss: 0.5653\n",
      "Epoch 3/10\n",
      "\u001b[1m4/4\u001b[0m \u001b[32m━━━━━━━━━━━━━━━━━━━━\u001b[0m\u001b[37m\u001b[0m \u001b[1m0s\u001b[0m 25ms/step - acc: 0.9913 - loss: 0.3359 - val_acc: 0.9167 - val_loss: 0.5215\n",
      "Epoch 4/10\n",
      "\u001b[1m4/4\u001b[0m \u001b[32m━━━━━━━━━━━━━━━━━━━━\u001b[0m\u001b[37m\u001b[0m \u001b[1m0s\u001b[0m 25ms/step - acc: 0.9910 - loss: 0.2257 - val_acc: 0.9167 - val_loss: 0.4954\n",
      "Epoch 5/10\n",
      "\u001b[1m4/4\u001b[0m \u001b[32m━━━━━━━━━━━━━━━━━━━━\u001b[0m\u001b[37m\u001b[0m \u001b[1m0s\u001b[0m 25ms/step - acc: 0.9851 - loss: 0.1740 - val_acc: 0.8889 - val_loss: 0.4372\n",
      "Epoch 6/10\n",
      "\u001b[1m4/4\u001b[0m \u001b[32m━━━━━━━━━━━━━━━━━━━━\u001b[0m\u001b[37m\u001b[0m \u001b[1m0s\u001b[0m 23ms/step - acc: 0.9945 - loss: 0.1170 - val_acc: 0.9167 - val_loss: 0.4028\n",
      "Epoch 7/10\n",
      "\u001b[1m4/4\u001b[0m \u001b[32m━━━━━━━━━━━━━━━━━━━━\u001b[0m\u001b[37m\u001b[0m \u001b[1m0s\u001b[0m 25ms/step - acc: 1.0000 - loss: 0.0898 - val_acc: 0.9167 - val_loss: 0.3850\n",
      "Epoch 8/10\n",
      "\u001b[1m4/4\u001b[0m \u001b[32m━━━━━━━━━━━━━━━━━━━━\u001b[0m\u001b[37m\u001b[0m \u001b[1m0s\u001b[0m 24ms/step - acc: 1.0000 - loss: 0.0656 - val_acc: 0.9167 - val_loss: 0.3767\n",
      "Epoch 9/10\n",
      "\u001b[1m4/4\u001b[0m \u001b[32m━━━━━━━━━━━━━━━━━━━━\u001b[0m\u001b[37m\u001b[0m \u001b[1m0s\u001b[0m 25ms/step - acc: 1.0000 - loss: 0.0497 - val_acc: 0.9167 - val_loss: 0.3610\n",
      "Epoch 10/10\n",
      "\u001b[1m4/4\u001b[0m \u001b[32m━━━━━━━━━━━━━━━━━━━━\u001b[0m\u001b[37m\u001b[0m \u001b[1m0s\u001b[0m 23ms/step - acc: 1.0000 - loss: 0.0384 - val_acc: 0.9444 - val_loss: 0.3659\n"
     ]
    }
   ],
   "source": [
    "history_rnn = model_rnn.fit(\n",
    "    x_train, y_train,\n",
    "    epochs=10,\n",
    "    batch_size=32,\n",
    "    validation_data=(x_val, y_val)\n",
    ")"
   ]
  },
  {
   "cell_type": "code",
   "execution_count": 6,
   "id": "7ae13161-bca9-4446-b001-1e4c73a8e310",
   "metadata": {
    "execution": {
     "iopub.execute_input": "2024-04-27T03:42:44.561291Z",
     "iopub.status.busy": "2024-04-27T03:42:44.560263Z",
     "iopub.status.idle": "2024-04-27T03:42:49.669308Z",
     "shell.execute_reply": "2024-04-27T03:42:49.667946Z",
     "shell.execute_reply.started": "2024-04-27T03:42:44.561231Z"
    }
   },
   "outputs": [
    {
     "name": "stdout",
     "output_type": "stream",
     "text": [
      "Epoch 1/10\n",
      "\u001b[1m4/4\u001b[0m \u001b[32m━━━━━━━━━━━━━━━━━━━━\u001b[0m\u001b[37m\u001b[0m \u001b[1m4s\u001b[0m 111ms/step - acc: 0.6023 - loss: 0.6893 - val_acc: 0.7500 - val_loss: 0.6755\n",
      "Epoch 2/10\n",
      "\u001b[1m4/4\u001b[0m \u001b[32m━━━━━━━━━━━━━━━━━━━━\u001b[0m\u001b[37m\u001b[0m \u001b[1m0s\u001b[0m 29ms/step - acc: 0.8324 - loss: 0.6654 - val_acc: 0.8889 - val_loss: 0.6482\n",
      "Epoch 3/10\n",
      "\u001b[1m4/4\u001b[0m \u001b[32m━━━━━━━━━━━━━━━━━━━━\u001b[0m\u001b[37m\u001b[0m \u001b[1m0s\u001b[0m 28ms/step - acc: 0.9273 - loss: 0.6273 - val_acc: 0.9167 - val_loss: 0.6002\n",
      "Epoch 4/10\n",
      "\u001b[1m4/4\u001b[0m \u001b[32m━━━━━━━━━━━━━━━━━━━━\u001b[0m\u001b[37m\u001b[0m \u001b[1m0s\u001b[0m 28ms/step - acc: 0.9709 - loss: 0.5644 - val_acc: 1.0000 - val_loss: 0.5245\n",
      "Epoch 5/10\n",
      "\u001b[1m4/4\u001b[0m \u001b[32m━━━━━━━━━━━━━━━━━━━━\u001b[0m\u001b[37m\u001b[0m \u001b[1m0s\u001b[0m 27ms/step - acc: 1.0000 - loss: 0.4706 - val_acc: 0.9444 - val_loss: 0.4202\n",
      "Epoch 6/10\n",
      "\u001b[1m4/4\u001b[0m \u001b[32m━━━━━━━━━━━━━━━━━━━━\u001b[0m\u001b[37m\u001b[0m \u001b[1m0s\u001b[0m 27ms/step - acc: 0.9855 - loss: 0.3516 - val_acc: 0.9722 - val_loss: 0.3114\n",
      "Epoch 7/10\n",
      "\u001b[1m4/4\u001b[0m \u001b[32m━━━━━━━━━━━━━━━━━━━━\u001b[0m\u001b[37m\u001b[0m \u001b[1m0s\u001b[0m 28ms/step - acc: 1.0000 - loss: 0.2353 - val_acc: 0.9722 - val_loss: 0.2288\n",
      "Epoch 8/10\n",
      "\u001b[1m4/4\u001b[0m \u001b[32m━━━━━━━━━━━━━━━━━━━━\u001b[0m\u001b[37m\u001b[0m \u001b[1m0s\u001b[0m 28ms/step - acc: 1.0000 - loss: 0.1782 - val_acc: 1.0000 - val_loss: 0.1754\n",
      "Epoch 9/10\n",
      "\u001b[1m4/4\u001b[0m \u001b[32m━━━━━━━━━━━━━━━━━━━━\u001b[0m\u001b[37m\u001b[0m \u001b[1m0s\u001b[0m 25ms/step - acc: 0.9897 - loss: 0.1475 - val_acc: 0.7778 - val_loss: 0.3709\n",
      "Epoch 10/10\n",
      "\u001b[1m4/4\u001b[0m \u001b[32m━━━━━━━━━━━━━━━━━━━━\u001b[0m\u001b[37m\u001b[0m \u001b[1m0s\u001b[0m 25ms/step - acc: 0.9106 - loss: 0.2533 - val_acc: 1.0000 - val_loss: 0.1439\n"
     ]
    }
   ],
   "source": [
    "history_lstm = model_lstm.fit(\n",
    "    x_train, y_train,\n",
    "    epochs=10,\n",
    "    batch_size=32,\n",
    "    validation_data=(x_val, y_val)\n",
    ")"
   ]
  },
  {
   "cell_type": "code",
   "execution_count": 7,
   "id": "11a8b68f-2fc1-41ef-822f-bda300d7d408",
   "metadata": {
    "execution": {
     "iopub.execute_input": "2024-04-27T03:42:49.672081Z",
     "iopub.status.busy": "2024-04-27T03:42:49.671483Z",
     "iopub.status.idle": "2024-04-27T03:42:49.681973Z",
     "shell.execute_reply": "2024-04-27T03:42:49.681134Z",
     "shell.execute_reply.started": "2024-04-27T03:42:49.672031Z"
    }
   },
   "outputs": [],
   "source": [
    "# Analysis of Model Performance\n",
    "def plot_learning_curves(history, title=''):\n",
    "    acc = history.history['acc']\n",
    "    val_acc = history.history['val_acc']\n",
    "    \n",
    "    loss = history.history['loss']\n",
    "    val_loss = history.history['val_loss']\n",
    "\n",
    "    epochs = len(acc)\n",
    "\n",
    "    plt.figure(figsize=(10, 7))\n",
    "    plt.plot(range(1, epochs+1), acc, \"b\", label=\"Training Accuracy\")\n",
    "    plt.plot(range(1, epochs+1), val_acc, \"r\", label=\"Validation Accuracy\")\n",
    "    plt.legend()\n",
    "\n",
    "    plt.legend()\n",
    "    plt.ylim(0,1.2)\n",
    "\n",
    "    plt.title(title)\n",
    "    plt.show()\n"
   ]
  },
  {
   "cell_type": "code",
   "execution_count": 8,
   "id": "f0f14786-1143-405a-94cf-65edb665490d",
   "metadata": {
    "execution": {
     "iopub.execute_input": "2024-04-27T03:42:49.683538Z",
     "iopub.status.busy": "2024-04-27T03:42:49.683070Z",
     "iopub.status.idle": "2024-04-27T03:42:49.903933Z",
     "shell.execute_reply": "2024-04-27T03:42:49.903019Z",
     "shell.execute_reply.started": "2024-04-27T03:42:49.683506Z"
    }
   },
   "outputs": [
    {
     "data": {
      "image/png": "[encoded data removed]",
      "text/plain": [
       "<Figure size 1000x700 with 1 Axes>"
      ]
     },
     "metadata": {},
     "output_type": "display_data"
    }
   ],
   "source": [
    "plot_learning_curves(history_rnn, title='RNN Accuracy')"
   ]
  },
  {
   "cell_type": "code",
   "execution_count": 9,
   "id": "bc224ef6-d0b8-48b2-95e9-e099415a9111",
   "metadata": {
    "execution": {
     "iopub.execute_input": "2024-04-27T03:42:49.904948Z",
     "iopub.status.busy": "2024-04-27T03:42:49.904732Z",
     "iopub.status.idle": "2024-04-27T03:42:50.056833Z",
     "shell.execute_reply": "2024-04-27T03:42:50.055945Z",
     "shell.execute_reply.started": "2024-04-27T03:42:49.904929Z"
    }
   },
   "outputs": [
    {
     "data": {
      "image/png": "[encoded data removed]",
      "text/plain": [
       "<Figure size 1000x700 with 1 Axes>"
      ]
     },
     "metadata": {},
     "output_type": "display_data"
    }
   ],
   "source": [
    "plot_learning_curves(history_lstm, title='LSTM Accuracy')"
   ]
  },
  {
   "cell_type": "markdown",
   "id": "88e861e6-2c87-4ef5-96b5-c80e29ee45a2",
   "metadata": {},
   "source": [
    "## Initial Analysis\n",
    "\n",
    "We obtain a graph of the training and validation set. Observing the two graphs and also considering that the dataset dealt with only has 179 instances (100 spam, 79 non-spam), there are three key points:\n",
    "1. **High Accuracy** – This is achieved at around 6 epochs, with training and validation accuracy converging near 100%. \n",
    "2. **Variance in Validation Accuracy** – This is observed in both models and likely due to the small dataset. This also negatively impacts confidence in results.\n",
    "3. **Lack of Overfitting** - Improvements to training accuracy usually result in higher validation accuracy, with the two scores closely aligning without significant gaps. This is a positive trend and indicates the absence of overfitting.\n",
    "\n",
    "## Moving Forward: Dropouts & Data Augmentation Techniques\n",
    "In order to alleviate concerns such as overfitting and variance, we implement two strategies:\n",
    "1. **Integration of Dropout for RNN and LSTM.**\n",
    "2. **Data Augmentation of Text using Synonym Replacement, Sentence Shuffling, and Back Translation.**\n",
    "\n",
    "##### ***Rationale of Implementing Droupout***\n",
    "By randomly setting a fraction of input units to 0 at each update during training, dropout forces the network to learn more robust features that are useful in conjunction with many different random subsets of the other neurons. This reduces the model's reliance on any individual neuron, promoting generalization.\n",
    "\n",
    "##### ***Difference Between Dropout and Recurrent Dropout***\n",
    "While both dropout and recurrent dropout aim to reduce overfitting, dropout does this by randomly deactivating neurons in a layer, whereas recurrent dropout randomly omits the connections between the recurrent units across the time steps within a recurrent layer.\n",
    "\n",
    "Following the heuristics, we will be implementing dropouts on Simple RNN to maintain the simplicity of its structure."
   ]
  },
  {
   "cell_type": "code",
   "execution_count": 60,
   "id": "9f8e6f5a-2545-4535-918e-be65242592b7",
   "metadata": {
    "collapsed": true,
    "execution": {
     "iopub.execute_input": "2024-04-27T05:31:29.178048Z",
     "iopub.status.busy": "2024-04-27T05:31:29.177353Z",
     "iopub.status.idle": "2024-04-27T05:31:40.560239Z",
     "shell.execute_reply": "2024-04-27T05:31:40.558167Z",
     "shell.execute_reply.started": "2024-04-27T05:31:29.177992Z"
    },
    "jupyter": {
     "outputs_hidden": true
    }
   },
   "outputs": [
    {
     "name": "stdout",
     "output_type": "stream",
     "text": [
      "Defaulting to user installation because normal site-packages is not writeable\n",
      "Requirement already satisfied: nltk in /opt/conda/lib/python3.11/site-packages (3.8.1)\n",
      "Requirement already satisfied: click in /opt/conda/lib/python3.11/site-packages (from nltk) (8.1.7)\n",
      "Requirement already satisfied: joblib in /opt/conda/lib/python3.11/site-packages (from nltk) (1.3.2)\n",
      "Requirement already satisfied: regex>=2021.8.3 in /opt/conda/lib/python3.11/site-packages (from nltk) (2023.12.25)\n",
      "Requirement already satisfied: tqdm in /opt/conda/lib/python3.11/site-packages (from nltk) (4.66.2)\n",
      "Defaulting to user installation because normal site-packages is not writeable\n",
      "Requirement already satisfied: transformers in /home/msds2024/gmercado/.local/lib/python3.11/site-packages (4.40.1)\n",
      "Requirement already satisfied: filelock in /opt/conda/lib/python3.11/site-packages (from transformers) (3.13.3)\n",
      "Requirement already satisfied: huggingface-hub<1.0,>=0.19.3 in /home/msds2024/gmercado/.local/lib/python3.11/site-packages (from transformers) (0.22.2)\n",
      "Requirement already satisfied: numpy>=1.17 in /opt/conda/lib/python3.11/site-packages (from transformers) (1.26.4)\n",
      "Requirement already satisfied: packaging>=20.0 in /opt/conda/lib/python3.11/site-packages (from transformers) (24.0)\n",
      "Requirement already satisfied: pyyaml>=5.1 in /opt/conda/lib/python3.11/site-packages (from transformers) (6.0.1)\n",
      "Requirement already satisfied: regex!=2019.12.17 in /opt/conda/lib/python3.11/site-packages (from transformers) (2023.12.25)\n",
      "Requirement already satisfied: requests in /opt/conda/lib/python3.11/site-packages (from transformers) (2.31.0)\n",
      "Requirement already satisfied: tokenizers<0.20,>=0.19 in /home/msds2024/gmercado/.local/lib/python3.11/site-packages (from transformers) (0.19.1)\n",
      "Requirement already satisfied: safetensors>=0.4.1 in /home/msds2024/gmercado/.local/lib/python3.11/site-packages (from transformers) (0.4.3)\n",
      "Requirement already satisfied: tqdm>=4.27 in /opt/conda/lib/python3.11/site-packages (from transformers) (4.66.2)\n",
      "Requirement already satisfied: fsspec>=2023.5.0 in /opt/conda/lib/python3.11/site-packages (from huggingface-hub<1.0,>=0.19.3->transformers) (2024.3.1)\n",
      "Requirement already satisfied: typing-extensions>=3.7.4.3 in /opt/conda/lib/python3.11/site-packages (from huggingface-hub<1.0,>=0.19.3->transformers) (4.10.0)\n",
      "Requirement already satisfied: charset-normalizer<4,>=2 in /opt/conda/lib/python3.11/site-packages (from requests->transformers) (3.3.2)\n",
      "Requirement already satisfied: idna<4,>=2.5 in /opt/conda/lib/python3.11/site-packages (from requests->transformers) (3.6)\n",
      "Requirement already satisfied: urllib3<3,>=1.21.1 in /opt/conda/lib/python3.11/site-packages (from requests->transformers) (2.0.7)\n",
      "Requirement already satisfied: certifi>=2017.4.17 in /opt/conda/lib/python3.11/site-packages (from requests->transformers) (2024.2.2)\n"
     ]
    }
   ],
   "source": [
    "!pip install nltk\n",
    "!pip install transformers  # Only necessary if you plan to use the back translation function"
   ]
  },
  {
   "cell_type": "code",
   "execution_count": 62,
   "id": "1eeccd96-9164-4673-b6a3-2e68b2bd7c1c",
   "metadata": {
    "collapsed": true,
    "execution": {
     "iopub.execute_input": "2024-04-27T05:32:25.482685Z",
     "iopub.status.busy": "2024-04-27T05:32:25.482003Z",
     "iopub.status.idle": "2024-04-27T05:32:32.423972Z",
     "shell.execute_reply": "2024-04-27T05:32:32.422425Z",
     "shell.execute_reply.started": "2024-04-27T05:32:25.482630Z"
    },
    "jupyter": {
     "outputs_hidden": true
    }
   },
   "outputs": [
    {
     "name": "stderr",
     "output_type": "stream",
     "text": [
      "[nltk_data] Downloading package punkt to\n",
      "[nltk_data]     /home/msds2024/gmercado/nltk_data...\n",
      "[nltk_data]   Unzipping tokenizers/punkt.zip.\n",
      "[nltk_data] Downloading package wordnet to\n",
      "[nltk_data]     /home/msds2024/gmercado/nltk_data...\n",
      "[nltk_data]   Package wordnet is already up-to-date!\n",
      "[nltk_data] Downloading package stopwords to\n",
      "[nltk_data]     /home/msds2024/gmercado/nltk_data...\n",
      "[nltk_data]   Unzipping corpora/stopwords.zip.\n"
     ]
    }
   ],
   "source": [
    "# Data Augmentation Functions\n",
    "\n",
    "import pandas as pd\n",
    "import numpy as np\n",
    "from tensorflow.keras.preprocessing import sequence\n",
    "from tensorflow.keras.preprocessing.text import Tokenizer\n",
    "import nltk\n",
    "import random\n",
    "from nltk.corpus import wordnet\n",
    "from transformers import MarianMTModel, MarianTokenizer\n",
    "\n",
    "nltk.download('punkt')\n",
    "nltk.download('wordnet')\n",
    "nltk.download('stopwords')\n",
    "\n",
    "def synonym_replacement(sentence, n):\n",
    "    words = sentence.split()\n",
    "    new_words = words.copy()\n",
    "    random_word_list = list(set([word for word in words if word not in nltk.corpus.stopwords.words('english')]))\n",
    "    random.shuffle(random_word_list)\n",
    "    num_replaced = 0\n",
    "    for random_word in random_word_list:\n",
    "        synonyms = get_synonyms(random_word)\n",
    "        if len(synonyms) >= 1:\n",
    "            synonym = random.choice(list(synonyms))\n",
    "            new_words = [synonym if word == random_word else word for word in new_words]\n",
    "            num_replaced += 1\n",
    "        if num_replaced >= n:\n",
    "            break\n",
    "\n",
    "    sentence = ' '.join(new_words)\n",
    "    return sentence\n",
    "\n",
    "def get_synonyms(word):\n",
    "    synonyms = set()\n",
    "    for syn in wordnet.synsets(word):\n",
    "        for lemma in syn.lemmas():\n",
    "            synonym = lemma.name().replace(\"_\", \" \").replace(\"-\", \" \").lower()\n",
    "            synonym = \"\".join([char for char in synonym if char in ' abcdefghijklmnopqrstuvwxyz'])\n",
    "            synonyms.add(synonym)\n",
    "    if word in synonyms:\n",
    "        synonyms.remove(word)\n",
    "    return list(synonyms)\n",
    "\n",
    "def shuffle_sentences(text):\n",
    "    sentences = nltk.sent_tokenize(text)\n",
    "    random.shuffle(sentences)\n",
    "    return ' '.join(sentences)\n",
    "\n",
    "def back_translate(text, src_lang='en', intermediate_lang='fr'):\n",
    "    tokenizer_src = MarianTokenizer.from_pretrained(f'Helsinki-NLP/opus-mt-{src_lang}-{intermediate_lang}')\n",
    "    model_src = MarianMTModel.from_pretrained(f'Helsinki-NLP/opus-mt-{src_lang}-{intermediate_lang}')\n",
    "    tokenizer_back = MarianTokenizer.from_pretrained(f'Helsinki-NLP/opus-mt-{intermediate_lang}-{src_lang}')\n",
    "    model_back = MarianMTModel.from_pretrained(f'Helsinki-NLP/opus-mt-{intermediate_lang}-{src_lang}')\n",
    "\n",
    "    # Translate to intermediate language\n",
    "    translated = model_src.generate(**tokenizer_src(text, return_tensors=\"pt\", padding=True))\n",
    "    text_intermediate = tokenizer_src.batch_decode(translated, skip_special_tokens=True)[0]\n",
    "\n",
    "    # Translate back to source language\n",
    "    back_translated = model_back.generate(**tokenizer_back(text_intermediate, return_tensors=\"pt\", padding=True))\n",
    "    text_back = tokenizer_back.batch_decode(back_translated, skip_special_tokens=True)[0]\n",
    "\n",
    "    return text_back\n",
    "\n",
    "file_path = 'email_classification.csv'\n",
    "df = pd.read_csv(file_path)\n",
    "inputs, labels = df['email'], df['label']\n",
    "\n",
    "augmented_emails = [synonym_replacement(email, 2) for email in inputs]  # Replace 2 words in each email\n",
    "\n",
    "# Combine original and augmented data\n",
    "all_emails = inputs.tolist() + augmented_emails\n",
    "all_labels = labels.tolist() + labels.tolist()  # Duplicate labels for the augmented data\n",
    "\n",
    "# Tokenize text data\n",
    "tokenizer = Tokenizer(num_words=max_features)\n",
    "tokenizer.fit_on_texts(all_emails)\n",
    "sequences = tokenizer.texts_to_sequences(all_emails)\n",
    "data = sequence.pad_sequences(sequences, maxlen=maxlen)\n",
    "\n",
    "binary_labels = np.array([(label == 'spam') + 0 for label in all_labels])\n",
    "\n",
    "test_size = round(len(binary_labels) * 0.15)\n",
    "val_size = round(len(binary_labels) * 0.2)\n",
    "train_size = len(binary_labels) - test_size - val_size\n",
    "\n",
    "x_train, y_train = data[:train_size], binary_labels[:train_size]\n",
    "x_val, y_val = data[train_size:train_size + val_size], binary_labels[train_size:train_size + val_size]\n",
    "x_test, y_test = data[train_size + val_size:], binary_labels[train_size + val_size:]"
   ]
  },
  {
   "cell_type": "code",
   "execution_count": 63,
   "id": "585a8632-b0a6-4b4d-8112-d6241dd95a49",
   "metadata": {
    "execution": {
     "iopub.execute_input": "2024-04-27T05:32:52.416999Z",
     "iopub.status.busy": "2024-04-27T05:32:52.416205Z",
     "iopub.status.idle": "2024-04-27T05:32:52.427437Z",
     "shell.execute_reply": "2024-04-27T05:32:52.425906Z",
     "shell.execute_reply.started": "2024-04-27T05:32:52.416930Z"
    }
   },
   "outputs": [
    {
     "name": "stdout",
     "output_type": "stream",
     "text": [
      "train_size: 232\n",
      "val_size: 72\n",
      "test_size: 54\n"
     ]
    }
   ],
   "source": [
    "print(f'train_size: {train_size}')\n",
    "print(f'val_size: {val_size}')\n",
    "print(f'test_size: {test_size}')"
   ]
  },
  {
   "cell_type": "markdown",
   "id": "00e4cc25-cd52-4bca-9d67-a8dd752f4431",
   "metadata": {
    "execution": {
     "iopub.execute_input": "2024-04-27T06:08:34.534645Z",
     "iopub.status.busy": "2024-04-27T06:08:34.533893Z",
     "iopub.status.idle": "2024-04-27T06:08:34.546167Z",
     "shell.execute_reply": "2024-04-27T06:08:34.543738Z",
     "shell.execute_reply.started": "2024-04-27T06:08:34.534583Z"
    }
   },
   "source": [
    "With Data Augmentation, we obtain a total of 358 datapoints."
   ]
  },
  {
   "cell_type": "markdown",
   "id": "e6cb36fb-70e3-45a8-b9cb-a9842b0c59ea",
   "metadata": {},
   "source": [
    "##### **Implementing Dropout**\n",
    "For the first attempt on Dropouts, we tune the parameters with the respective\n",
    "\n",
    "* `SimpleRNN(32, dropout=0.3)`\n",
    "* `LSTM(32, dropout=0.3, recurrent_dropout=0.3)`\n",
    "\n",
    "The higher the dropout rate, the more neurons are randomly dropped from the neural network during training. If set too high, dropouts may lead to underfitting and a loss of model complexity and performance."
   ]
  },
  {
   "cell_type": "code",
   "execution_count": 140,
   "id": "3872ce41-a6c9-47d7-a6a1-072a6bf27d19",
   "metadata": {
    "execution": {
     "iopub.execute_input": "2024-04-27T05:53:00.119983Z",
     "iopub.status.busy": "2024-04-27T05:53:00.118523Z",
     "iopub.status.idle": "2024-04-27T05:53:00.163874Z",
     "shell.execute_reply": "2024-04-27T05:53:00.162337Z",
     "shell.execute_reply.started": "2024-04-27T05:53:00.119914Z"
    }
   },
   "outputs": [],
   "source": [
    "from keras.layers import Dropout\n",
    "\n",
    "model_rnn1 = Sequential()\n",
    "model_rnn1.add(Embedding(max_features, 32))\n",
    "model_rnn1.add(SimpleRNN(32, dropout=0.3))  # Add dropout to RNN layer\n",
    "model_rnn1.add(Dense(1, activation='sigmoid'))\n",
    "# model_rnn1.compile(optimizer=optimizer, loss='binary_crossentropy', metrics=['acc'])\n",
    "model_rnn1.compile(optimizer='rmsprop', loss='binary_crossentropy', metrics=['acc'])\n",
    "\n",
    "model_lstm1 = Sequential()\n",
    "model_lstm1.add(Embedding(max_features, 32))\n",
    "model_lstm1.add(LSTM(32, dropout=0.3, recurrent_dropout=0.3))  # Add dropout to LSTM layer\n",
    "model_lstm1.add(Dense(1, activation='sigmoid'))\n",
    "model_lstm1.compile(optimizer='rmsprop', loss='binary_crossentropy', metrics=['acc'])\n",
    "# model_lstm1.compile(optimizer=optimizer, loss='binary_crossentropy', metrics=['acc'])"
   ]
  },
  {
   "cell_type": "code",
   "execution_count": 141,
   "id": "dd36b83e-c5f8-40f8-bb8b-0a6b674a49de",
   "metadata": {
    "execution": {
     "iopub.execute_input": "2024-04-27T05:53:00.237189Z",
     "iopub.status.busy": "2024-04-27T05:53:00.236292Z",
     "iopub.status.idle": "2024-04-27T05:53:11.342404Z",
     "shell.execute_reply": "2024-04-27T05:53:11.340997Z",
     "shell.execute_reply.started": "2024-04-27T05:53:00.237125Z"
    }
   },
   "outputs": [
    {
     "name": "stdout",
     "output_type": "stream",
     "text": [
      "Epoch 1/10\n",
      "\u001b[1m8/8\u001b[0m \u001b[32m━━━━━━━━━━━━━━━━━━━━\u001b[0m\u001b[37m\u001b[0m \u001b[1m10s\u001b[0m 517ms/step - acc: 0.6677 - loss: 0.6645 - val_acc: 0.6111 - val_loss: 0.6010\n",
      "Epoch 2/10\n",
      "\u001b[1m8/8\u001b[0m \u001b[32m━━━━━━━━━━━━━━━━━━━━\u001b[0m\u001b[37m\u001b[0m \u001b[1m0s\u001b[0m 16ms/step - acc: 0.8281 - loss: 0.5196 - val_acc: 0.8333 - val_loss: 0.4788\n",
      "Epoch 3/10\n",
      "\u001b[1m8/8\u001b[0m \u001b[32m━━━━━━━━━━━━━━━━━━━━\u001b[0m\u001b[37m\u001b[0m \u001b[1m0s\u001b[0m 16ms/step - acc: 0.9793 - loss: 0.3443 - val_acc: 0.8750 - val_loss: 0.3722\n",
      "Epoch 4/10\n",
      "\u001b[1m8/8\u001b[0m \u001b[32m━━━━━━━━━━━━━━━━━━━━\u001b[0m\u001b[37m\u001b[0m \u001b[1m0s\u001b[0m 15ms/step - acc: 0.9704 - loss: 0.2359 - val_acc: 0.9722 - val_loss: 0.3075\n",
      "Epoch 5/10\n",
      "\u001b[1m8/8\u001b[0m \u001b[32m━━━━━━━━━━━━━━━━━━━━\u001b[0m\u001b[37m\u001b[0m \u001b[1m0s\u001b[0m 14ms/step - acc: 0.9908 - loss: 0.1883 - val_acc: 0.9583 - val_loss: 0.2398\n",
      "Epoch 6/10\n",
      "\u001b[1m8/8\u001b[0m \u001b[32m━━━━━━━━━━━━━━━━━━━━\u001b[0m\u001b[37m\u001b[0m \u001b[1m0s\u001b[0m 14ms/step - acc: 0.9985 - loss: 0.1220 - val_acc: 0.9306 - val_loss: 0.2239\n",
      "Epoch 7/10\n",
      "\u001b[1m8/8\u001b[0m \u001b[32m━━━━━━━━━━━━━━━━━━━━\u001b[0m\u001b[37m\u001b[0m \u001b[1m0s\u001b[0m 15ms/step - acc: 0.9985 - loss: 0.0885 - val_acc: 0.9722 - val_loss: 0.1619\n",
      "Epoch 8/10\n",
      "\u001b[1m8/8\u001b[0m \u001b[32m━━━━━━━━━━━━━━━━━━━━\u001b[0m\u001b[37m\u001b[0m \u001b[1m0s\u001b[0m 16ms/step - acc: 1.0000 - loss: 0.0637 - val_acc: 0.9722 - val_loss: 0.1320\n",
      "Epoch 9/10\n",
      "\u001b[1m8/8\u001b[0m \u001b[32m━━━━━━━━━━━━━━━━━━━━\u001b[0m\u001b[37m\u001b[0m \u001b[1m0s\u001b[0m 14ms/step - acc: 1.0000 - loss: 0.0441 - val_acc: 0.9722 - val_loss: 0.1165\n",
      "Epoch 10/10\n",
      "\u001b[1m8/8\u001b[0m \u001b[32m━━━━━━━━━━━━━━━━━━━━\u001b[0m\u001b[37m\u001b[0m \u001b[1m0s\u001b[0m 14ms/step - acc: 0.9973 - loss: 0.0339 - val_acc: 0.9861 - val_loss: 0.0802\n"
     ]
    }
   ],
   "source": [
    "history_rnn1 = model_rnn1.fit(\n",
    "    x_train, y_train,\n",
    "    epochs=10,\n",
    "    batch_size=32,\n",
    "    validation_data=(x_val, y_val)\n",
    ")"
   ]
  },
  {
   "cell_type": "code",
   "execution_count": 142,
   "id": "92275933-57e5-42c6-82b7-52cd1e2149d9",
   "metadata": {
    "execution": {
     "iopub.execute_input": "2024-04-27T05:53:11.346877Z",
     "iopub.status.busy": "2024-04-27T05:53:11.346131Z",
     "iopub.status.idle": "2024-04-27T05:53:20.392739Z",
     "shell.execute_reply": "2024-04-27T05:53:20.390846Z",
     "shell.execute_reply.started": "2024-04-27T05:53:11.346821Z"
    }
   },
   "outputs": [
    {
     "name": "stdout",
     "output_type": "stream",
     "text": [
      "Epoch 1/10\n",
      "\u001b[1m8/8\u001b[0m \u001b[32m━━━━━━━━━━━━━━━━━━━━\u001b[0m\u001b[37m\u001b[0m \u001b[1m4s\u001b[0m 124ms/step - acc: 0.5231 - loss: 0.6902 - val_acc: 0.5972 - val_loss: 0.6733\n",
      "Epoch 2/10\n",
      "\u001b[1m8/8\u001b[0m \u001b[32m━━━━━━━━━━━━━━━━━━━━\u001b[0m\u001b[37m\u001b[0m \u001b[1m1s\u001b[0m 70ms/step - acc: 0.7393 - loss: 0.6654 - val_acc: 0.6528 - val_loss: 0.6285\n",
      "Epoch 3/10\n",
      "\u001b[1m8/8\u001b[0m \u001b[32m━━━━━━━━━━━━━━━━━━━━\u001b[0m\u001b[37m\u001b[0m \u001b[1m1s\u001b[0m 72ms/step - acc: 0.7469 - loss: 0.6088 - val_acc: 0.9444 - val_loss: 0.5496\n",
      "Epoch 4/10\n",
      "\u001b[1m8/8\u001b[0m \u001b[32m━━━━━━━━━━━━━━━━━━━━\u001b[0m\u001b[37m\u001b[0m \u001b[1m1s\u001b[0m 70ms/step - acc: 0.9639 - loss: 0.5063 - val_acc: 1.0000 - val_loss: 0.4136\n",
      "Epoch 5/10\n",
      "\u001b[1m8/8\u001b[0m \u001b[32m━━━━━━━━━━━━━━━━━━━━\u001b[0m\u001b[37m\u001b[0m \u001b[1m1s\u001b[0m 73ms/step - acc: 0.9536 - loss: 0.3505 - val_acc: 0.9167 - val_loss: 0.2957\n",
      "Epoch 6/10\n",
      "\u001b[1m8/8\u001b[0m \u001b[32m━━━━━━━━━━━━━━━━━━━━\u001b[0m\u001b[37m\u001b[0m \u001b[1m1s\u001b[0m 69ms/step - acc: 0.9328 - loss: 0.3145 - val_acc: 1.0000 - val_loss: 0.1998\n",
      "Epoch 7/10\n",
      "\u001b[1m8/8\u001b[0m \u001b[32m━━━━━━━━━━━━━━━━━━━━\u001b[0m\u001b[37m\u001b[0m \u001b[1m1s\u001b[0m 75ms/step - acc: 0.9657 - loss: 0.1943 - val_acc: 0.9861 - val_loss: 0.1658\n",
      "Epoch 8/10\n",
      "\u001b[1m8/8\u001b[0m \u001b[32m━━━━━━━━━━━━━━━━━━━━\u001b[0m\u001b[37m\u001b[0m \u001b[1m1s\u001b[0m 67ms/step - acc: 0.9600 - loss: 0.1751 - val_acc: 1.0000 - val_loss: 0.1138\n",
      "Epoch 9/10\n",
      "\u001b[1m8/8\u001b[0m \u001b[32m━━━━━━━━━━━━━━━━━━━━\u001b[0m\u001b[37m\u001b[0m \u001b[1m1s\u001b[0m 72ms/step - acc: 0.9864 - loss: 0.1043 - val_acc: 0.9722 - val_loss: 0.1307\n",
      "Epoch 10/10\n",
      "\u001b[1m8/8\u001b[0m \u001b[32m━━━━━━━━━━━━━━━━━━━━\u001b[0m\u001b[37m\u001b[0m \u001b[1m1s\u001b[0m 71ms/step - acc: 0.9891 - loss: 0.0992 - val_acc: 1.0000 - val_loss: 0.0809\n"
     ]
    }
   ],
   "source": [
    "history_lstm1 = model_lstm1.fit(\n",
    "    x_train, y_train,\n",
    "    epochs=10,\n",
    "    batch_size=32,\n",
    "    validation_data=(x_val, y_val)\n",
    ")"
   ]
  },
  {
   "cell_type": "code",
   "execution_count": 145,
   "id": "958a027e-afd9-486c-8f66-fcc7ec7b7946",
   "metadata": {
    "execution": {
     "iopub.execute_input": "2024-04-27T05:53:37.013711Z",
     "iopub.status.busy": "2024-04-27T05:53:37.013022Z",
     "iopub.status.idle": "2024-04-27T05:53:37.185831Z",
     "shell.execute_reply": "2024-04-27T05:53:37.184953Z",
     "shell.execute_reply.started": "2024-04-27T05:53:37.013654Z"
    }
   },
   "outputs": [
    {
     "data": {
      "image/png": "[encoded data removed]",
      "text/plain": [
       "<Figure size 1000x700 with 1 Axes>"
      ]
     },
     "metadata": {},
     "output_type": "display_data"
    }
   ],
   "source": [
    "plot_learning_curves(history_rnn1, title='RNN with Dropout Accuracy')"
   ]
  },
  {
   "cell_type": "code",
   "execution_count": 146,
   "id": "4a7cc668-cd71-40db-9b9e-a72360f90d68",
   "metadata": {
    "execution": {
     "iopub.execute_input": "2024-04-27T05:53:48.968981Z",
     "iopub.status.busy": "2024-04-27T05:53:48.968292Z",
     "iopub.status.idle": "2024-04-27T05:53:49.136882Z",
     "shell.execute_reply": "2024-04-27T05:53:49.136249Z",
     "shell.execute_reply.started": "2024-04-27T05:53:48.968924Z"
    }
   },
   "outputs": [
    {
     "data": {
      "image/png": "[encoded data removed]",
      "text/plain": [
       "<Figure size 1000x700 with 1 Axes>"
      ]
     },
     "metadata": {},
     "output_type": "display_data"
    }
   ],
   "source": [
    "plot_learning_curves(history_lstm1, title='LSTM with Dropout Accuracy')"
   ]
  },
  {
   "cell_type": "markdown",
   "id": "cdafbfba-30a8-4742-8092-3e237a2a184b",
   "metadata": {},
   "source": [
    "The dropout for SimpleRNN garnered a better performance, ultimately defeating the concern of overfitting. However, LSTM showed more consistent signs of overfitting with the validation scores being higher than the training scores across epochs.\n",
    "\n",
    "We can further our analysis by focusing on improving LSTM with different dropout and recurrent dropout values."
   ]
  },
  {
   "cell_type": "code",
   "execution_count": 156,
   "id": "56c45d02-671c-4793-958a-04ae5b0439a9",
   "metadata": {
    "execution": {
     "iopub.execute_input": "2024-04-27T06:02:53.769098Z",
     "iopub.status.busy": "2024-04-27T06:02:53.768341Z",
     "iopub.status.idle": "2024-04-27T06:03:02.731915Z",
     "shell.execute_reply": "2024-04-27T06:03:02.730846Z",
     "shell.execute_reply.started": "2024-04-27T06:02:53.769036Z"
    }
   },
   "outputs": [
    {
     "name": "stdout",
     "output_type": "stream",
     "text": [
      "Epoch 1/10\n",
      "\u001b[1m8/8\u001b[0m \u001b[32m━━━━━━━━━━━━━━━━━━━━\u001b[0m\u001b[37m\u001b[0m \u001b[1m3s\u001b[0m 124ms/step - acc: 0.7920 - loss: 0.6811 - val_acc: 0.6667 - val_loss: 0.6373\n",
      "Epoch 2/10\n",
      "\u001b[1m8/8\u001b[0m \u001b[32m━━━━━━━━━━━━━━━━━━━━\u001b[0m\u001b[37m\u001b[0m \u001b[1m1s\u001b[0m 72ms/step - acc: 0.8129 - loss: 0.6071 - val_acc: 0.9444 - val_loss: 0.5167\n",
      "Epoch 3/10\n",
      "\u001b[1m8/8\u001b[0m \u001b[32m━━━━━━━━━━━━━━━━━━━━\u001b[0m\u001b[37m\u001b[0m \u001b[1m1s\u001b[0m 65ms/step - acc: 0.9531 - loss: 0.4628 - val_acc: 1.0000 - val_loss: 0.3270\n",
      "Epoch 4/10\n",
      "\u001b[1m8/8\u001b[0m \u001b[32m━━━━━━━━━━━━━━━━━━━━\u001b[0m\u001b[37m\u001b[0m \u001b[1m1s\u001b[0m 68ms/step - acc: 0.9775 - loss: 0.2752 - val_acc: 0.8750 - val_loss: 0.2731\n",
      "Epoch 5/10\n",
      "\u001b[1m8/8\u001b[0m \u001b[32m━━━━━━━━━━━━━━━━━━━━\u001b[0m\u001b[37m\u001b[0m \u001b[1m1s\u001b[0m 74ms/step - acc: 0.9650 - loss: 0.1931 - val_acc: 0.9583 - val_loss: 0.1749\n",
      "Epoch 6/10\n",
      "\u001b[1m8/8\u001b[0m \u001b[32m━━━━━━━━━━━━━━━━━━━━\u001b[0m\u001b[37m\u001b[0m \u001b[1m1s\u001b[0m 70ms/step - acc: 0.9902 - loss: 0.1334 - val_acc: 1.0000 - val_loss: 0.1017\n",
      "Epoch 7/10\n",
      "\u001b[1m8/8\u001b[0m \u001b[32m━━━━━━━━━━━━━━━━━━━━\u001b[0m\u001b[37m\u001b[0m \u001b[1m1s\u001b[0m 67ms/step - acc: 0.9775 - loss: 0.1096 - val_acc: 0.9722 - val_loss: 0.1139\n",
      "Epoch 8/10\n",
      "\u001b[1m8/8\u001b[0m \u001b[32m━━━━━━━━━━━━━━━━━━━━\u001b[0m\u001b[37m\u001b[0m \u001b[1m0s\u001b[0m 61ms/step - acc: 0.9864 - loss: 0.0858 - val_acc: 0.9722 - val_loss: 0.0942\n",
      "Epoch 9/10\n",
      "\u001b[1m8/8\u001b[0m \u001b[32m━━━━━━━━━━━━━━━━━━━━\u001b[0m\u001b[37m\u001b[0m \u001b[1m1s\u001b[0m 70ms/step - acc: 0.9687 - loss: 0.1227 - val_acc: 1.0000 - val_loss: 0.0457\n",
      "Epoch 10/10\n",
      "\u001b[1m8/8\u001b[0m \u001b[32m━━━━━━━━━━━━━━━━━━━━\u001b[0m\u001b[37m\u001b[0m \u001b[1m1s\u001b[0m 78ms/step - acc: 0.9908 - loss: 0.0541 - val_acc: 1.0000 - val_loss: 0.0392\n"
     ]
    },
    {
     "data": {
      "image/png": "[encoded data removed]",
      "text/plain": [
       "<Figure size 1000x700 with 1 Axes>"
      ]
     },
     "metadata": {},
     "output_type": "display_data"
    }
   ],
   "source": [
    "model_lstm2 = Sequential()\n",
    "model_lstm2.add(Embedding(max_features, 32))\n",
    "model_lstm2.add(LSTM(32, dropout=0.1, recurrent_dropout=0.3))  # Adding dropout to LSTM layer\n",
    "model_lstm2.add(Dense(1, activation='sigmoid'))\n",
    "model_lstm2.compile(optimizer='rmsprop', loss='binary_crossentropy', metrics=['acc'])\n",
    "# model_lstm1.compile(optimizer=optimizer, loss='binary_crossentropy', metrics=['acc'])\n",
    "\n",
    "history_lstm2 = model_lstm2.fit(\n",
    "    x_train, y_train,\n",
    "    epochs=10,\n",
    "    batch_size=32,\n",
    "    validation_data=(x_val, y_val)\n",
    ")\n",
    "\n",
    "plot_learning_curves(history_lstm2, title='LSTM with Dropout Accuracy')"
   ]
  },
  {
   "cell_type": "markdown",
   "id": "caee62d9-86dd-494d-b5ba-5e31cf026fcc",
   "metadata": {},
   "source": [
    "With the hyperpameters set to `model_lstm2.add(LSTM(32, dropout=0.1, recurrent_dropout=0.3))`, we've obtained an LSTM model with a much reduced, although still present, instance of overfitting. \n",
    "\n",
    "Throughout the analysis, we've witnessed how LSTM was more prone to overfitting despite already performing data augmentation, and perhaps this case is inherent to LSTM. LSTMs are inherently more complex than simple RNNs due to their gate mechanisms, and additional complexity can lead to overfitting. For this instance, it may require a more granular hyperparameter tuning to significantly reduce overfitting."
   ]
  },
  {
   "cell_type": "markdown",
   "id": "e62dab49-7c39-4abc-91b0-f36404207372",
   "metadata": {
    "execution": {
     "iopub.execute_input": "2024-04-27T06:42:14.640017Z",
     "iopub.status.busy": "2024-04-27T06:42:14.639281Z",
     "iopub.status.idle": "2024-04-27T06:42:14.650031Z",
     "shell.execute_reply": "2024-04-27T06:42:14.647979Z",
     "shell.execute_reply.started": "2024-04-27T06:42:14.639962Z"
    }
   },
   "source": [
    "Below is the final SimpleRNN and LSTM models and their accuracy scores."
   ]
  },
  {
   "cell_type": "code",
   "execution_count": 164,
   "id": "7ef6fc15-bb5b-4c47-a04a-d812c7989eaa",
   "metadata": {
    "execution": {
     "iopub.execute_input": "2024-04-27T06:40:25.024907Z",
     "iopub.status.busy": "2024-04-27T06:40:25.023424Z",
     "iopub.status.idle": "2024-04-27T06:40:25.075415Z",
     "shell.execute_reply": "2024-04-27T06:40:25.074069Z",
     "shell.execute_reply.started": "2024-04-27T06:40:25.024841Z"
    }
   },
   "outputs": [
    {
     "data": {
      "text/html": [
       "<pre style=\"white-space:pre;overflow-x:auto;line-height:normal;font-family:Menlo,'DejaVu Sans Mono',consolas,'Courier New',monospace\"><span style=\"font-weight: bold\">Model: \"sequential_53\"</span>\n",
       "</pre>\n"
      ],
      "text/plain": [
       "\u001b[1mModel: \"sequential_53\"\u001b[0m\n"
      ]
     },
     "metadata": {},
     "output_type": "display_data"
    },
    {
     "data": {
      "text/html": [
       "<pre style=\"white-space:pre;overflow-x:auto;line-height:normal;font-family:Menlo,'DejaVu Sans Mono',consolas,'Courier New',monospace\">┏━━━━━━━━━━━━━━━━━━━━━━━━━━━━━━━━━┳━━━━━━━━━━━━━━━━━━━━━━━━┳━━━━━━━━━━━━━━━┓\n",
       "┃<span style=\"font-weight: bold\"> Layer (type)                    </span>┃<span style=\"font-weight: bold\"> Output Shape           </span>┃<span style=\"font-weight: bold\">       Param # </span>┃\n",
       "┡━━━━━━━━━━━━━━━━━━━━━━━━━━━━━━━━━╇━━━━━━━━━━━━━━━━━━━━━━━━╇━━━━━━━━━━━━━━━┩\n",
       "│ embedding_53 (<span style=\"color: #0087ff; text-decoration-color: #0087ff\">Embedding</span>)        │ (<span style=\"color: #00d7ff; text-decoration-color: #00d7ff\">None</span>, <span style=\"color: #00af00; text-decoration-color: #00af00\">20</span>, <span style=\"color: #00af00; text-decoration-color: #00af00\">32</span>)         │       <span style=\"color: #00af00; text-decoration-color: #00af00\">320,000</span> │\n",
       "├─────────────────────────────────┼────────────────────────┼───────────────┤\n",
       "│ simple_rnn_27 (<span style=\"color: #0087ff; text-decoration-color: #0087ff\">SimpleRNN</span>)       │ (<span style=\"color: #00d7ff; text-decoration-color: #00d7ff\">None</span>, <span style=\"color: #00af00; text-decoration-color: #00af00\">32</span>)             │         <span style=\"color: #00af00; text-decoration-color: #00af00\">2,080</span> │\n",
       "├─────────────────────────────────┼────────────────────────┼───────────────┤\n",
       "│ dense_53 (<span style=\"color: #0087ff; text-decoration-color: #0087ff\">Dense</span>)                │ (<span style=\"color: #00d7ff; text-decoration-color: #00d7ff\">None</span>, <span style=\"color: #00af00; text-decoration-color: #00af00\">1</span>)              │            <span style=\"color: #00af00; text-decoration-color: #00af00\">33</span> │\n",
       "└─────────────────────────────────┴────────────────────────┴───────────────┘\n",
       "</pre>\n"
      ],
      "text/plain": [
       "┏━━━━━━━━━━━━━━━━━━━━━━━━━━━━━━━━━┳━━━━━━━━━━━━━━━━━━━━━━━━┳━━━━━━━━━━━━━━━┓\n",
       "┃\u001b[1m \u001b[0m\u001b[1mLayer (type)                   \u001b[0m\u001b[1m \u001b[0m┃\u001b[1m \u001b[0m\u001b[1mOutput Shape          \u001b[0m\u001b[1m \u001b[0m┃\u001b[1m \u001b[0m\u001b[1m      Param #\u001b[0m\u001b[1m \u001b[0m┃\n",
       "┡━━━━━━━━━━━━━━━━━━━━━━━━━━━━━━━━━╇━━━━━━━━━━━━━━━━━━━━━━━━╇━━━━━━━━━━━━━━━┩\n",
       "│ embedding_53 (\u001b[38;5;33mEmbedding\u001b[0m)        │ (\u001b[38;5;45mNone\u001b[0m, \u001b[38;5;34m20\u001b[0m, \u001b[38;5;34m32\u001b[0m)         │       \u001b[38;5;34m320,000\u001b[0m │\n",
       "├─────────────────────────────────┼────────────────────────┼───────────────┤\n",
       "│ simple_rnn_27 (\u001b[38;5;33mSimpleRNN\u001b[0m)       │ (\u001b[38;5;45mNone\u001b[0m, \u001b[38;5;34m32\u001b[0m)             │         \u001b[38;5;34m2,080\u001b[0m │\n",
       "├─────────────────────────────────┼────────────────────────┼───────────────┤\n",
       "│ dense_53 (\u001b[38;5;33mDense\u001b[0m)                │ (\u001b[38;5;45mNone\u001b[0m, \u001b[38;5;34m1\u001b[0m)              │            \u001b[38;5;34m33\u001b[0m │\n",
       "└─────────────────────────────────┴────────────────────────┴───────────────┘\n"
      ]
     },
     "metadata": {},
     "output_type": "display_data"
    },
    {
     "data": {
      "text/html": [
       "<pre style=\"white-space:pre;overflow-x:auto;line-height:normal;font-family:Menlo,'DejaVu Sans Mono',consolas,'Courier New',monospace\"><span style=\"font-weight: bold\"> Total params: </span><span style=\"color: #00af00; text-decoration-color: #00af00\">644,228</span> (2.46 MB)\n",
       "</pre>\n"
      ],
      "text/plain": [
       "\u001b[1m Total params: \u001b[0m\u001b[38;5;34m644,228\u001b[0m (2.46 MB)\n"
      ]
     },
     "metadata": {},
     "output_type": "display_data"
    },
    {
     "data": {
      "text/html": [
       "<pre style=\"white-space:pre;overflow-x:auto;line-height:normal;font-family:Menlo,'DejaVu Sans Mono',consolas,'Courier New',monospace\"><span style=\"font-weight: bold\"> Trainable params: </span><span style=\"color: #00af00; text-decoration-color: #00af00\">322,113</span> (1.23 MB)\n",
       "</pre>\n"
      ],
      "text/plain": [
       "\u001b[1m Trainable params: \u001b[0m\u001b[38;5;34m322,113\u001b[0m (1.23 MB)\n"
      ]
     },
     "metadata": {},
     "output_type": "display_data"
    },
    {
     "data": {
      "text/html": [
       "<pre style=\"white-space:pre;overflow-x:auto;line-height:normal;font-family:Menlo,'DejaVu Sans Mono',consolas,'Courier New',monospace\"><span style=\"font-weight: bold\"> Non-trainable params: </span><span style=\"color: #00af00; text-decoration-color: #00af00\">0</span> (0.00 B)\n",
       "</pre>\n"
      ],
      "text/plain": [
       "\u001b[1m Non-trainable params: \u001b[0m\u001b[38;5;34m0\u001b[0m (0.00 B)\n"
      ]
     },
     "metadata": {},
     "output_type": "display_data"
    },
    {
     "data": {
      "text/html": [
       "<pre style=\"white-space:pre;overflow-x:auto;line-height:normal;font-family:Menlo,'DejaVu Sans Mono',consolas,'Courier New',monospace\"><span style=\"font-weight: bold\"> Optimizer params: </span><span style=\"color: #00af00; text-decoration-color: #00af00\">322,115</span> (1.23 MB)\n",
       "</pre>\n"
      ],
      "text/plain": [
       "\u001b[1m Optimizer params: \u001b[0m\u001b[38;5;34m322,115\u001b[0m (1.23 MB)\n"
      ]
     },
     "metadata": {},
     "output_type": "display_data"
    },
    {
     "data": {
      "text/html": [
       "<pre style=\"white-space:pre;overflow-x:auto;line-height:normal;font-family:Menlo,'DejaVu Sans Mono',consolas,'Courier New',monospace\"><span style=\"font-weight: bold\">Model: \"sequential_64\"</span>\n",
       "</pre>\n"
      ],
      "text/plain": [
       "\u001b[1mModel: \"sequential_64\"\u001b[0m\n"
      ]
     },
     "metadata": {},
     "output_type": "display_data"
    },
    {
     "data": {
      "text/html": [
       "<pre style=\"white-space:pre;overflow-x:auto;line-height:normal;font-family:Menlo,'DejaVu Sans Mono',consolas,'Courier New',monospace\">┏━━━━━━━━━━━━━━━━━━━━━━━━━━━━━━━━━┳━━━━━━━━━━━━━━━━━━━━━━━━┳━━━━━━━━━━━━━━━┓\n",
       "┃<span style=\"font-weight: bold\"> Layer (type)                    </span>┃<span style=\"font-weight: bold\"> Output Shape           </span>┃<span style=\"font-weight: bold\">       Param # </span>┃\n",
       "┡━━━━━━━━━━━━━━━━━━━━━━━━━━━━━━━━━╇━━━━━━━━━━━━━━━━━━━━━━━━╇━━━━━━━━━━━━━━━┩\n",
       "│ embedding_64 (<span style=\"color: #0087ff; text-decoration-color: #0087ff\">Embedding</span>)        │ (<span style=\"color: #00d7ff; text-decoration-color: #00d7ff\">None</span>, <span style=\"color: #00af00; text-decoration-color: #00af00\">20</span>, <span style=\"color: #00af00; text-decoration-color: #00af00\">32</span>)         │       <span style=\"color: #00af00; text-decoration-color: #00af00\">320,000</span> │\n",
       "├─────────────────────────────────┼────────────────────────┼───────────────┤\n",
       "│ lstm_36 (<span style=\"color: #0087ff; text-decoration-color: #0087ff\">LSTM</span>)                  │ (<span style=\"color: #00d7ff; text-decoration-color: #00d7ff\">None</span>, <span style=\"color: #00af00; text-decoration-color: #00af00\">32</span>)             │         <span style=\"color: #00af00; text-decoration-color: #00af00\">8,320</span> │\n",
       "├─────────────────────────────────┼────────────────────────┼───────────────┤\n",
       "│ dense_64 (<span style=\"color: #0087ff; text-decoration-color: #0087ff\">Dense</span>)                │ (<span style=\"color: #00d7ff; text-decoration-color: #00d7ff\">None</span>, <span style=\"color: #00af00; text-decoration-color: #00af00\">1</span>)              │            <span style=\"color: #00af00; text-decoration-color: #00af00\">33</span> │\n",
       "└─────────────────────────────────┴────────────────────────┴───────────────┘\n",
       "</pre>\n"
      ],
      "text/plain": [
       "┏━━━━━━━━━━━━━━━━━━━━━━━━━━━━━━━━━┳━━━━━━━━━━━━━━━━━━━━━━━━┳━━━━━━━━━━━━━━━┓\n",
       "┃\u001b[1m \u001b[0m\u001b[1mLayer (type)                   \u001b[0m\u001b[1m \u001b[0m┃\u001b[1m \u001b[0m\u001b[1mOutput Shape          \u001b[0m\u001b[1m \u001b[0m┃\u001b[1m \u001b[0m\u001b[1m      Param #\u001b[0m\u001b[1m \u001b[0m┃\n",
       "┡━━━━━━━━━━━━━━━━━━━━━━━━━━━━━━━━━╇━━━━━━━━━━━━━━━━━━━━━━━━╇━━━━━━━━━━━━━━━┩\n",
       "│ embedding_64 (\u001b[38;5;33mEmbedding\u001b[0m)        │ (\u001b[38;5;45mNone\u001b[0m, \u001b[38;5;34m20\u001b[0m, \u001b[38;5;34m32\u001b[0m)         │       \u001b[38;5;34m320,000\u001b[0m │\n",
       "├─────────────────────────────────┼────────────────────────┼───────────────┤\n",
       "│ lstm_36 (\u001b[38;5;33mLSTM\u001b[0m)                  │ (\u001b[38;5;45mNone\u001b[0m, \u001b[38;5;34m32\u001b[0m)             │         \u001b[38;5;34m8,320\u001b[0m │\n",
       "├─────────────────────────────────┼────────────────────────┼───────────────┤\n",
       "│ dense_64 (\u001b[38;5;33mDense\u001b[0m)                │ (\u001b[38;5;45mNone\u001b[0m, \u001b[38;5;34m1\u001b[0m)              │            \u001b[38;5;34m33\u001b[0m │\n",
       "└─────────────────────────────────┴────────────────────────┴───────────────┘\n"
      ]
     },
     "metadata": {},
     "output_type": "display_data"
    },
    {
     "data": {
      "text/html": [
       "<pre style=\"white-space:pre;overflow-x:auto;line-height:normal;font-family:Menlo,'DejaVu Sans Mono',consolas,'Courier New',monospace\"><span style=\"font-weight: bold\"> Total params: </span><span style=\"color: #00af00; text-decoration-color: #00af00\">656,708</span> (2.51 MB)\n",
       "</pre>\n"
      ],
      "text/plain": [
       "\u001b[1m Total params: \u001b[0m\u001b[38;5;34m656,708\u001b[0m (2.51 MB)\n"
      ]
     },
     "metadata": {},
     "output_type": "display_data"
    },
    {
     "data": {
      "text/html": [
       "<pre style=\"white-space:pre;overflow-x:auto;line-height:normal;font-family:Menlo,'DejaVu Sans Mono',consolas,'Courier New',monospace\"><span style=\"font-weight: bold\"> Trainable params: </span><span style=\"color: #00af00; text-decoration-color: #00af00\">328,353</span> (1.25 MB)\n",
       "</pre>\n"
      ],
      "text/plain": [
       "\u001b[1m Trainable params: \u001b[0m\u001b[38;5;34m328,353\u001b[0m (1.25 MB)\n"
      ]
     },
     "metadata": {},
     "output_type": "display_data"
    },
    {
     "data": {
      "text/html": [
       "<pre style=\"white-space:pre;overflow-x:auto;line-height:normal;font-family:Menlo,'DejaVu Sans Mono',consolas,'Courier New',monospace\"><span style=\"font-weight: bold\"> Non-trainable params: </span><span style=\"color: #00af00; text-decoration-color: #00af00\">0</span> (0.00 B)\n",
       "</pre>\n"
      ],
      "text/plain": [
       "\u001b[1m Non-trainable params: \u001b[0m\u001b[38;5;34m0\u001b[0m (0.00 B)\n"
      ]
     },
     "metadata": {},
     "output_type": "display_data"
    },
    {
     "data": {
      "text/html": [
       "<pre style=\"white-space:pre;overflow-x:auto;line-height:normal;font-family:Menlo,'DejaVu Sans Mono',consolas,'Courier New',monospace\"><span style=\"font-weight: bold\"> Optimizer params: </span><span style=\"color: #00af00; text-decoration-color: #00af00\">328,355</span> (1.25 MB)\n",
       "</pre>\n"
      ],
      "text/plain": [
       "\u001b[1m Optimizer params: \u001b[0m\u001b[38;5;34m328,355\u001b[0m (1.25 MB)\n"
      ]
     },
     "metadata": {},
     "output_type": "display_data"
    }
   ],
   "source": [
    "model_rnn1.summary()\n",
    "model_lstm2.summary()"
   ]
  },
  {
   "cell_type": "code",
   "execution_count": 171,
   "id": "84e30cdc-975e-48a0-b3af-949ef97d0110",
   "metadata": {
    "execution": {
     "iopub.execute_input": "2024-04-27T08:10:26.706584Z",
     "iopub.status.busy": "2024-04-27T08:10:26.705849Z",
     "iopub.status.idle": "2024-04-27T08:10:26.993771Z",
     "shell.execute_reply": "2024-04-27T08:10:26.991858Z",
     "shell.execute_reply.started": "2024-04-27T08:10:26.706526Z"
    }
   },
   "outputs": [
    {
     "name": "stdout",
     "output_type": "stream",
     "text": [
      "\u001b[1m2/2\u001b[0m \u001b[32m━━━━━━━━━━━━━━━━━━━━\u001b[0m\u001b[37m\u001b[0m \u001b[1m0s\u001b[0m 8ms/step - acc: 0.9772 - loss: 0.0834 \n",
      "Test Accuracy for RNN model: 0.9814814925193787\n",
      "\u001b[1m2/2\u001b[0m \u001b[32m━━━━━━━━━━━━━━━━━━━━\u001b[0m\u001b[37m\u001b[0m \u001b[1m0s\u001b[0m 28ms/step - acc: 0.9772 - loss: 0.0848\n",
      "Test Accuracy for LSTM model: 0.9814814925193787\n"
     ]
    }
   ],
   "source": [
    "test_loss_rnn, test_accuracy_rnn = model_rnn1.evaluate(x_test, y_test, verbose=1)\n",
    "print(f'Test Accuracy for RNN model: {test_accuracy_rnn}')\n",
    "\n",
    "test_loss_lstm, test_accuracy_lstm = model_lstm2.evaluate(x_test, y_test, verbose=1)\n",
    "print(f'Test Accuracy for LSTM model: {test_accuracy_lstm}')"
   ]
  },
  {
   "cell_type": "code",
   "execution_count": 170,
   "id": "7625d5fc-97e5-4370-a7e8-fedbde7c02d5",
   "metadata": {
    "execution": {
     "iopub.execute_input": "2024-04-27T08:10:07.234280Z",
     "iopub.status.busy": "2024-04-27T08:10:07.233610Z",
     "iopub.status.idle": "2024-04-27T08:10:07.765481Z",
     "shell.execute_reply": "2024-04-27T08:10:07.763756Z",
     "shell.execute_reply.started": "2024-04-27T08:10:07.234226Z"
    }
   },
   "outputs": [
    {
     "name": "stdout",
     "output_type": "stream",
     "text": [
      "\u001b[1m2/2\u001b[0m \u001b[32m━━━━━━━━━━━━━━━━━━━━\u001b[0m\u001b[37m\u001b[0m \u001b[1m0s\u001b[0m 260ms/step - acc: 0.5930 - loss: 0.7949\n",
      "Test Accuracy for RNN model: 0.5925925970077515\n",
      "\u001b[1m2/2\u001b[0m \u001b[32m━━━━━━━━━━━━━━━━━━━━\u001b[0m\u001b[37m\u001b[0m \u001b[1m0s\u001b[0m 12ms/step - acc: 0.6138 - loss: 0.5974\n",
      "Test Accuracy for LSTM model: 0.5925925970077515\n"
     ]
    }
   ],
   "source": [
    "test_loss_rnn, test_accuracy_rnn = model_rnn.evaluate(x_test, y_test, verbose=1)\n",
    "print(f'Test Accuracy for RNN model: {test_accuracy_rnn}')\n",
    "\n",
    "test_loss_lstm, test_accuracy_lstm = model_lstm.evaluate(x_test, y_test, verbose=1)\n",
    "print(f'Test Accuracy for LSTM model: {test_accuracy_lstm}')"
   ]
  },
  {
   "cell_type": "markdown",
   "id": "5fe61f48-d528-4389-9295-d9c7c820380c",
   "metadata": {},
   "source": [
    "### Conclusion\n",
    "\n",
    "| Model Description                 | Dropout and Augmentation | Training Accuracy | Validation Accuracy | Loss (Train) | Loss (Validation) | Test Accuracy | Loss (Test) |\n",
    "|-----------------------------------|--------------------------|-------------------|---------------------|--------------|-------------------|---------------|-------------|\n",
    "| **First Model: SimpleRNN**        | No                       | 100%              | 94.44%              | 0.0384       | 0.3659            | 59.26%        | 0.7949      |\n",
    "| **Second Model: LSTM**            | No                       | 91.06%            | 100%                | 0.2533       | 0.1439            | 59.26%        | 0.5974      |\n",
    "| **Third Model: SimpleRNN**        | Yes                      | 99.73%            | 98.61%              | 0.0339       | 0.0802            | 98.15%        | 0.0834      |\n",
    "| **Fourth Model: LSTM**            | Yes                      | 99.08%            | 100%                | 0.0541       | 0.0392            | 98.15%        | 0.0848      |\n",
    "\n",
    "##### **Analysis:**\n",
    "- **Model Complexity and Overfitting**: Initially, the models without dropout and data augmentation displayed a significant discrepancy between training and validation accuracies, hinting at potential overfitting. This was particularly notable in the first LSTM model, where a 100% validation accuracy suggested an overly precise fit to the validation data, potentially limiting generalization.\n",
    "\n",
    "- **Effect of Dropout and Data Augmentation**: Introducing dropout and data augmentation significantly reduced overfitting, as evidenced by the closer alignment between training and validation accuracies in the third and fourth models. Additionally, these models showed reduced validation loss, indicating improved generalization capabilities.\n",
    "\n",
    "- **Performance Improvement**: Both the SimpleRNN and LSTM models with dropout and data augmentation not only exhibited enhanced validation accuracy but also maintained robust training accuracy. This suggests that the implemented regularization strategies effectively enhanced model robustness without compromising learning efficacy.\n",
    "\n",
    "- **Consistency in Test Performance**: The third and fourth models not only achieved high validation accuracies but also sustained these levels on the test set, underscoring the benefits of the regularization strategies employed.\n",
    "\n",
    "A most notable result in this table is the exact similarity of Test Accuracy to each of the models, and it may have something to do with the nature of the dataset. If certain features or patterns (like specific keywords) strongly predict the outcome (spam or ham), both models might equally learn to recognize these features, leading to similar performance.  Furthermore, the test set might not contain enough variation to differentiate the performance capabilities of an LSTM from an RNN. For instance, if the test set is relatively simple or not challenging enough, both models could easily achieve high accuracy.\n",
    "\n",
    "This study has garnered the following highlights:\n",
    "* **Initial Simple RNN and LSTM** – Initially, both Simple RNN and LSTM models showed signs of overfitting, with the validation accuracy consistently higher than the training accuracy across epochs.\n",
    "* **Data Augmentation** – To counter the limitations of a small dataset, data augmentation techniques specifically tailored for text data were applied. These techniques included methods such as adding noise to the text, replacing words with synonyms or similar terms, and back translation.\n",
    "* **Dropout Regularization** – Dropout regularization was implemented to mitigate overfitting by randomly dropping a fraction of the neurons during training, preventing the network from relying too heavily on specific features or patterns in the data.\n",
    "\n",
    "The combined approach of data augmentation and dropout regularization resulted in a reduced gap between validation and training accuracy. This reduction indicates improved generalization ability, enhancing the models' robustness and reducing their susceptibility to overfitting, ultimately leading to more reliable predictions on unseen data.\n",
    "\n",
    "This notebook demonstrated how it is to work with emails whether they are spam or ham by implementing RNN and LSTM for text classification tasks. To address the limitations inherent in a small dataset, we employed data augmentation techniques to artificially expand the training data distribution. Additionally, dropout regularization was incorporated to mitigate overfitting. The effectiveness of this combined approach is demonstrably supported by the reduction of the gap between validation and training accuracy. This diminished gap suggests an enhanced capacity for the models to generalize to unseen data, implying improved robustness and reduced susceptibility to overfitting. Overall, the integration of data augmentation and dropout regularization techniques significantly improved the models' performance, showcasing their ability to generalize well to new email data and mitigate issues related to overfitting."
   ]
  },
  {
   "cell_type": "code",
   "execution_count": null,
   "id": "3ae6a97f-16fd-41a8-ba9b-0556a21814bf",
   "metadata": {},
   "outputs": [],
   "source": []
  }
 ],
 "metadata": {
  "kernelspec": {
   "display_name": "Python 3 (ipykernel)",
   "language": "python",
   "name": "python3"
  },
  "language_info": {
   "codemirror_mode": {
    "name": "ipython",
    "version": 3
   },
   "file_extension": ".py",
   "mimetype": "text/x-python",
   "name": "python",
   "nbconvert_exporter": "python",
   "pygments_lexer": "ipython3",
   "version": "3.11.8"
  }
 },
 "nbformat": 4,
 "nbformat_minor": 5
}
